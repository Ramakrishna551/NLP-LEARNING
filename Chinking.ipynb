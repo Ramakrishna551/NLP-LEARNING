{
 "cells": [
  {
   "cell_type": "code",
   "execution_count": null,
   "id": "c19fd987",
   "metadata": {},
   "outputs": [],
   "source": [
    "# Chinking \n",
    "# chinking is used to exclude a specific chunk from the while chunk .ipynb_checkpoints.\n",
    "# we can define a chink to be a sequence of tokens that is not included in a chunk \n",
    " "
   ]
  },
  {
   "cell_type": "code",
   "execution_count": 1,
   "id": "e46c9899",
   "metadata": {},
   "outputs": [
    {
     "data": {
      "text/plain": [
       "[('The', 'DT'),\n",
       " ('crazy', 'JJ'),\n",
       " ('brown', 'NN'),\n",
       " ('dog', 'NN'),\n",
       " ('went', 'VBD'),\n",
       " ('running', 'VBG'),\n",
       " ('through', 'IN'),\n",
       " ('the', 'DT'),\n",
       " ('mud', 'NN'),\n",
       " ('.', '.')]"
      ]
     },
     "execution_count": 1,
     "metadata": {},
     "output_type": "execute_result"
    }
   ],
   "source": [
    "#To chink a chunk from a chunk \n",
    "import nltk\n",
    "from nltk.tokenize import word_tokenize\n",
    "sample=\"The crazy brown dog went running through the mud .\"\n",
    "pos_text = nltk.pos_tag(nltk.word_tokenize(sample))\n",
    "pos_text"
   ]
  },
  {
   "cell_type": "code",
   "execution_count": 3,
   "id": "ff8c5665",
   "metadata": {},
   "outputs": [
    {
     "name": "stdout",
     "output_type": "stream",
     "text": [
      "(S\n",
      "  The/DT\n",
      "  (chunk crazy/JJ brown/NN dog/NN)\n",
      "  went/VBD\n",
      "  running/VBG\n",
      "  through/IN\n",
      "  the/DT\n",
      "  (chunk mud/NN ./.))\n"
     ]
    }
   ],
   "source": [
    "grammer =(r\"\"\"\n",
    "       chunk:{<.*>+}\n",
    "          }<VB.?|IN|DT|TD>+{   \n",
    "\"\"\")\n",
    "chunkparse=nltk.RegexpParser(grammer)\n",
    "tree =chunkparse.parse(pos_text)\n",
    "print(tree)\n",
    "tree.draw()"
   ]
  },
  {
   "cell_type": "code",
   "execution_count": 7,
   "id": "04eae728",
   "metadata": {},
   "outputs": [
    {
     "name": "stdout",
     "output_type": "stream",
     "text": [
      "(S\n",
      "  (NP The/DT little/JJ yellow/JJ dog/NN barked/VBD)\n",
      "  at/IN\n",
      "  (NP the/DT cat/NN ./.))\n"
     ]
    }
   ],
   "source": [
    "#Example 2\n",
    "sample=\"The little yellow dog barked at the cat.\"\n",
    "pos=nltk.pos_tag(word_tokenize(sample))\n",
    "pos\n",
    "grammer=r\"\"\"\n",
    "NP:{<.*>+}\n",
    "}<VB|IN>+{\n",
    "\n",
    "\"\"\"\n",
    "parse=nltk.RegexpParser(grammer)\n",
    "tree=parse.parse(pos)\n",
    "print(tree)\n",
    "tree.draw()"
   ]
  }
 ],
 "metadata": {
  "kernelspec": {
   "display_name": "base",
   "language": "python",
   "name": "python3"
  },
  "language_info": {
   "codemirror_mode": {
    "name": "ipython",
    "version": 3
   },
   "file_extension": ".py",
   "mimetype": "text/x-python",
   "name": "python",
   "nbconvert_exporter": "python",
   "pygments_lexer": "ipython3",
   "version": "3.12.3"
  }
 },
 "nbformat": 4,
 "nbformat_minor": 5
}
