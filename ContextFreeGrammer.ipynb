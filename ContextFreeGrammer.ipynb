{
 "cells": [
  {
   "cell_type": "code",
   "execution_count": 3,
   "id": "6d94bbf2",
   "metadata": {},
   "outputs": [],
   "source": [
    "# Context Free Grammer (CFG):\n",
    "# A CFG is used to describe the syntax of a natural language by defining things recursively .\n",
    "# A language can be defined as all the possible derivations with in the rules described by a grammer "
   ]
  },
  {
   "cell_type": "code",
   "execution_count": 4,
   "id": "eece718c",
   "metadata": {},
   "outputs": [
    {
     "ename": "AttributeError",
     "evalue": "partially initialized module 'nltk' has no attribute 'data' (most likely due to a circular import)",
     "output_type": "error",
     "traceback": [
      "\u001b[1;31m---------------------------------------------------------------------------\u001b[0m",
      "\u001b[1;31mAttributeError\u001b[0m                            Traceback (most recent call last)",
      "Cell \u001b[1;32mIn[4], line 2\u001b[0m\n\u001b[0;32m      1\u001b[0m \u001b[38;5;66;03m#TO define a CFG using link:\u001b[39;00m\n\u001b[1;32m----> 2\u001b[0m \u001b[38;5;28;01mimport\u001b[39;00m \u001b[38;5;21;01mnltk\u001b[39;00m\n\u001b[0;32m      3\u001b[0m grammar1\u001b[38;5;241m=\u001b[39mnltk\u001b[38;5;241m.\u001b[39mCFG\u001b[38;5;241m.\u001b[39mfromstring(\u001b[38;5;124m\"\"\"\u001b[39m\n\u001b[0;32m      4\u001b[0m \u001b[38;5;124m                            S -> NP VP\u001b[39m\n\u001b[0;32m      5\u001b[0m \u001b[38;5;124m                            VP -> V NP|NP PP\u001b[39m\n\u001b[1;32m   (...)\u001b[0m\n\u001b[0;32m     12\u001b[0m \n\u001b[0;32m     13\u001b[0m \u001b[38;5;124m                            \u001b[39m\u001b[38;5;124m\"\"\"\u001b[39m)\n\u001b[0;32m     14\u001b[0m \u001b[38;5;28mprint\u001b[39m(grammar1)\n",
      "File \u001b[1;32mc:\\Users\\Ramakrishna\\anaconda3\\Lib\\site-packages\\nltk\\__init__.py:180\u001b[0m\n\u001b[0;32m    177\u001b[0m \u001b[38;5;28;01melse\u001b[39;00m:\n\u001b[0;32m    178\u001b[0m     \u001b[38;5;28;01mfrom\u001b[39;00m \u001b[38;5;21;01mnltk\u001b[39;00m \u001b[38;5;28;01mimport\u001b[39;00m cluster\n\u001b[1;32m--> 180\u001b[0m \u001b[38;5;28;01mfrom\u001b[39;00m \u001b[38;5;21;01mnltk\u001b[39;00m\u001b[38;5;21;01m.\u001b[39;00m\u001b[38;5;21;01mdownloader\u001b[39;00m \u001b[38;5;28;01mimport\u001b[39;00m download, download_shell\n\u001b[0;32m    182\u001b[0m \u001b[38;5;28;01mtry\u001b[39;00m:\n\u001b[0;32m    183\u001b[0m     \u001b[38;5;28;01mimport\u001b[39;00m \u001b[38;5;21;01mtkinter\u001b[39;00m\n",
      "File \u001b[1;32mc:\\Users\\Ramakrishna\\anaconda3\\Lib\\site-packages\\nltk\\downloader.py:2475\u001b[0m\n\u001b[0;32m   2465\u001b[0m             \u001b[38;5;28;01mpass\u001b[39;00m\n\u001b[0;32m   2468\u001b[0m \u001b[38;5;66;03m######################################################################\u001b[39;00m\n\u001b[0;32m   2469\u001b[0m \u001b[38;5;66;03m# Main:\u001b[39;00m\n\u001b[0;32m   2470\u001b[0m \u001b[38;5;66;03m######################################################################\u001b[39;00m\n\u001b[1;32m   (...)\u001b[0m\n\u001b[0;32m   2473\u001b[0m \n\u001b[0;32m   2474\u001b[0m \u001b[38;5;66;03m# Aliases\u001b[39;00m\n\u001b[1;32m-> 2475\u001b[0m _downloader \u001b[38;5;241m=\u001b[39m Downloader()\n\u001b[0;32m   2476\u001b[0m download \u001b[38;5;241m=\u001b[39m _downloader\u001b[38;5;241m.\u001b[39mdownload\n\u001b[0;32m   2479\u001b[0m \u001b[38;5;28;01mdef\u001b[39;00m \u001b[38;5;21mdownload_shell\u001b[39m():\n",
      "File \u001b[1;32mc:\\Users\\Ramakrishna\\anaconda3\\Lib\\site-packages\\nltk\\downloader.py:515\u001b[0m, in \u001b[0;36mDownloader.__init__\u001b[1;34m(self, server_index_url, download_dir)\u001b[0m\n\u001b[0;32m    513\u001b[0m \u001b[38;5;66;03m# decide where we're going to save things to.\u001b[39;00m\n\u001b[0;32m    514\u001b[0m \u001b[38;5;28;01mif\u001b[39;00m \u001b[38;5;28mself\u001b[39m\u001b[38;5;241m.\u001b[39m_download_dir \u001b[38;5;129;01mis\u001b[39;00m \u001b[38;5;28;01mNone\u001b[39;00m:\n\u001b[1;32m--> 515\u001b[0m     \u001b[38;5;28mself\u001b[39m\u001b[38;5;241m.\u001b[39m_download_dir \u001b[38;5;241m=\u001b[39m \u001b[38;5;28mself\u001b[39m\u001b[38;5;241m.\u001b[39mdefault_download_dir()\n",
      "File \u001b[1;32mc:\\Users\\Ramakrishna\\anaconda3\\Lib\\site-packages\\nltk\\downloader.py:1068\u001b[0m, in \u001b[0;36mDownloader.default_download_dir\u001b[1;34m(self)\u001b[0m\n\u001b[0;32m   1064\u001b[0m     \u001b[38;5;28;01mreturn\u001b[39;00m\n\u001b[0;32m   1066\u001b[0m \u001b[38;5;66;03m# Check if we have sufficient permissions to install in a\u001b[39;00m\n\u001b[0;32m   1067\u001b[0m \u001b[38;5;66;03m# variety of system-wide locations.\u001b[39;00m\n\u001b[1;32m-> 1068\u001b[0m \u001b[38;5;28;01mfor\u001b[39;00m nltkdir \u001b[38;5;129;01min\u001b[39;00m nltk\u001b[38;5;241m.\u001b[39mdata\u001b[38;5;241m.\u001b[39mpath:\n\u001b[0;32m   1069\u001b[0m     \u001b[38;5;28;01mif\u001b[39;00m os\u001b[38;5;241m.\u001b[39mpath\u001b[38;5;241m.\u001b[39mexists(nltkdir) \u001b[38;5;129;01mand\u001b[39;00m nltk\u001b[38;5;241m.\u001b[39minternals\u001b[38;5;241m.\u001b[39mis_writable(nltkdir):\n\u001b[0;32m   1070\u001b[0m         \u001b[38;5;28;01mreturn\u001b[39;00m nltkdir\n",
      "\u001b[1;31mAttributeError\u001b[0m: partially initialized module 'nltk' has no attribute 'data' (most likely due to a circular import)"
     ]
    }
   ],
   "source": [
    "#TO define a CFG using link:\n",
    "import nltk\n",
    "grammar1=nltk.CFG.fromstring(\"\"\"\n",
    "                            S -> NP VP\n",
    "                            VP -> V NP|NP PP\n",
    "                            PP -> P NP\n",
    "                            V  -> \"saw\" | \"ate\" | \"walked\"\n",
    "                            NP -> \"John\" | \"Mary\" | \"Bob\" | Det N | Det N PP\n",
    "                            Det -> \"a\" | \"an\" | \"the\" | \"my\"\n",
    "                            N -> \"man\" | \"Dog\" | \"Cat\" | \"telescope\" | \"park\"\n",
    "                            P -> \"in\" | \"on\" | \"by\" | with\n",
    "\n",
    "                            \"\"\")\n",
    "print(grammar1)\n",
    "sent = \"Bob saw a man with a telescope in the park \"\n",
    "tok_word=nltk.word_tokenize(sent)\n",
    "print(tok_word)\n",
    "\n"
   ]
  },
  {
   "cell_type": "code",
   "execution_count": null,
   "id": "c5f25e23",
   "metadata": {},
   "outputs": [
    {
     "name": "stdout",
     "output_type": "stream",
     "text": [
      "Tokenized words: ['Bob', 'saw', 'a', 'man', 'with', 'a', 'telescope', 'in', 'the', 'park', '.']\n",
      "(S\n",
      "  (NP Bob)\n",
      "  (VP\n",
      "    (VP\n",
      "      (VP (V saw) (NP (Det a) (N man)))\n",
      "      (PP (P with) (NP (Det a) (N telescope))))\n",
      "    (PP (P in) (NP (Det the) (N park)))))\n"
     ]
    },
    {
     "ename": "RecursionError",
     "evalue": "maximum recursion depth exceeded",
     "output_type": "error",
     "traceback": [
      "\u001b[1;31m---------------------------------------------------------------------------\u001b[0m",
      "\u001b[1;31mRecursionError\u001b[0m                            Traceback (most recent call last)",
      "Cell \u001b[1;32mIn[3], line 34\u001b[0m\n\u001b[0;32m     31\u001b[0m rd_parse \u001b[38;5;241m=\u001b[39m nltk\u001b[38;5;241m.\u001b[39mRecursiveDescentParser(grammar1)\n\u001b[0;32m     33\u001b[0m \u001b[38;5;66;03m# Parse and print trees\u001b[39;00m\n\u001b[1;32m---> 34\u001b[0m \u001b[38;5;28;01mfor\u001b[39;00m tree \u001b[38;5;129;01min\u001b[39;00m rd_parse\u001b[38;5;241m.\u001b[39mparse(tok_word):\n\u001b[0;32m     35\u001b[0m     \u001b[38;5;28mprint\u001b[39m(tree)\n\u001b[0;32m     36\u001b[0m \u001b[38;5;28mprint\u001b[39m(grammer1)\n",
      "File \u001b[1;32mc:\\Users\\Ramakrishna\\anaconda3\\Lib\\site-packages\\nltk\\parse\\recursivedescent.py:126\u001b[0m, in \u001b[0;36mRecursiveDescentParser._parse\u001b[1;34m(self, remaining_text, tree, frontier)\u001b[0m\n\u001b[0;32m    124\u001b[0m \u001b[38;5;66;03m# If the next element on the frontier is a tree, expand it.\u001b[39;00m\n\u001b[0;32m    125\u001b[0m \u001b[38;5;28;01melif\u001b[39;00m \u001b[38;5;28misinstance\u001b[39m(tree[frontier[\u001b[38;5;241m0\u001b[39m]], Tree):\n\u001b[1;32m--> 126\u001b[0m     \u001b[38;5;28;01myield from\u001b[39;00m \u001b[38;5;28mself\u001b[39m\u001b[38;5;241m.\u001b[39m_expand(remaining_text, tree, frontier)\n\u001b[0;32m    128\u001b[0m \u001b[38;5;66;03m# If the next element on the frontier is a token, match it.\u001b[39;00m\n\u001b[0;32m    129\u001b[0m \u001b[38;5;28;01melse\u001b[39;00m:\n\u001b[0;32m    130\u001b[0m     \u001b[38;5;28;01myield from\u001b[39;00m \u001b[38;5;28mself\u001b[39m\u001b[38;5;241m.\u001b[39m_match(remaining_text, tree, frontier)\n",
      "File \u001b[1;32mc:\\Users\\Ramakrishna\\anaconda3\\Lib\\site-packages\\nltk\\parse\\recursivedescent.py:225\u001b[0m, in \u001b[0;36mRecursiveDescentParser._expand\u001b[1;34m(self, remaining_text, tree, frontier, production)\u001b[0m\n\u001b[0;32m    223\u001b[0m \u001b[38;5;28;01mif\u001b[39;00m \u001b[38;5;28mself\u001b[39m\u001b[38;5;241m.\u001b[39m_trace:\n\u001b[0;32m    224\u001b[0m     \u001b[38;5;28mself\u001b[39m\u001b[38;5;241m.\u001b[39m_trace_expand(newtree, new_frontier, production)\n\u001b[1;32m--> 225\u001b[0m \u001b[38;5;28;01myield from\u001b[39;00m \u001b[38;5;28mself\u001b[39m\u001b[38;5;241m.\u001b[39m_parse(\n\u001b[0;32m    226\u001b[0m     remaining_text, newtree, new_frontier \u001b[38;5;241m+\u001b[39m frontier[\u001b[38;5;241m1\u001b[39m:]\n\u001b[0;32m    227\u001b[0m )\n",
      "File \u001b[1;32mc:\\Users\\Ramakrishna\\anaconda3\\Lib\\site-packages\\nltk\\parse\\recursivedescent.py:126\u001b[0m, in \u001b[0;36mRecursiveDescentParser._parse\u001b[1;34m(self, remaining_text, tree, frontier)\u001b[0m\n\u001b[0;32m    124\u001b[0m \u001b[38;5;66;03m# If the next element on the frontier is a tree, expand it.\u001b[39;00m\n\u001b[0;32m    125\u001b[0m \u001b[38;5;28;01melif\u001b[39;00m \u001b[38;5;28misinstance\u001b[39m(tree[frontier[\u001b[38;5;241m0\u001b[39m]], Tree):\n\u001b[1;32m--> 126\u001b[0m     \u001b[38;5;28;01myield from\u001b[39;00m \u001b[38;5;28mself\u001b[39m\u001b[38;5;241m.\u001b[39m_expand(remaining_text, tree, frontier)\n\u001b[0;32m    128\u001b[0m \u001b[38;5;66;03m# If the next element on the frontier is a token, match it.\u001b[39;00m\n\u001b[0;32m    129\u001b[0m \u001b[38;5;28;01melse\u001b[39;00m:\n\u001b[0;32m    130\u001b[0m     \u001b[38;5;28;01myield from\u001b[39;00m \u001b[38;5;28mself\u001b[39m\u001b[38;5;241m.\u001b[39m_match(remaining_text, tree, frontier)\n",
      "File \u001b[1;32mc:\\Users\\Ramakrishna\\anaconda3\\Lib\\site-packages\\nltk\\parse\\recursivedescent.py:225\u001b[0m, in \u001b[0;36mRecursiveDescentParser._expand\u001b[1;34m(self, remaining_text, tree, frontier, production)\u001b[0m\n\u001b[0;32m    223\u001b[0m \u001b[38;5;28;01mif\u001b[39;00m \u001b[38;5;28mself\u001b[39m\u001b[38;5;241m.\u001b[39m_trace:\n\u001b[0;32m    224\u001b[0m     \u001b[38;5;28mself\u001b[39m\u001b[38;5;241m.\u001b[39m_trace_expand(newtree, new_frontier, production)\n\u001b[1;32m--> 225\u001b[0m \u001b[38;5;28;01myield from\u001b[39;00m \u001b[38;5;28mself\u001b[39m\u001b[38;5;241m.\u001b[39m_parse(\n\u001b[0;32m    226\u001b[0m     remaining_text, newtree, new_frontier \u001b[38;5;241m+\u001b[39m frontier[\u001b[38;5;241m1\u001b[39m:]\n\u001b[0;32m    227\u001b[0m )\n",
      "File \u001b[1;32mc:\\Users\\Ramakrishna\\anaconda3\\Lib\\site-packages\\nltk\\parse\\recursivedescent.py:130\u001b[0m, in \u001b[0;36mRecursiveDescentParser._parse\u001b[1;34m(self, remaining_text, tree, frontier)\u001b[0m\n\u001b[0;32m    126\u001b[0m     \u001b[38;5;28;01myield from\u001b[39;00m \u001b[38;5;28mself\u001b[39m\u001b[38;5;241m.\u001b[39m_expand(remaining_text, tree, frontier)\n\u001b[0;32m    128\u001b[0m \u001b[38;5;66;03m# If the next element on the frontier is a token, match it.\u001b[39;00m\n\u001b[0;32m    129\u001b[0m \u001b[38;5;28;01melse\u001b[39;00m:\n\u001b[1;32m--> 130\u001b[0m     \u001b[38;5;28;01myield from\u001b[39;00m \u001b[38;5;28mself\u001b[39m\u001b[38;5;241m.\u001b[39m_match(remaining_text, tree, frontier)\n",
      "File \u001b[1;32mc:\\Users\\Ramakrishna\\anaconda3\\Lib\\site-packages\\nltk\\parse\\recursivedescent.py:168\u001b[0m, in \u001b[0;36mRecursiveDescentParser._match\u001b[1;34m(self, rtext, tree, frontier)\u001b[0m\n\u001b[0;32m    166\u001b[0m     \u001b[38;5;28;01mif\u001b[39;00m \u001b[38;5;28mself\u001b[39m\u001b[38;5;241m.\u001b[39m_trace:\n\u001b[0;32m    167\u001b[0m         \u001b[38;5;28mself\u001b[39m\u001b[38;5;241m.\u001b[39m_trace_match(newtree, frontier[\u001b[38;5;241m1\u001b[39m:], rtext[\u001b[38;5;241m0\u001b[39m])\n\u001b[1;32m--> 168\u001b[0m     \u001b[38;5;28;01myield from\u001b[39;00m \u001b[38;5;28mself\u001b[39m\u001b[38;5;241m.\u001b[39m_parse(rtext[\u001b[38;5;241m1\u001b[39m:], newtree, frontier[\u001b[38;5;241m1\u001b[39m:])\n\u001b[0;32m    169\u001b[0m \u001b[38;5;28;01melse\u001b[39;00m:\n\u001b[0;32m    170\u001b[0m     \u001b[38;5;66;03m# If it's a non-matching terminal, fail.\u001b[39;00m\n\u001b[0;32m    171\u001b[0m     \u001b[38;5;28;01mif\u001b[39;00m \u001b[38;5;28mself\u001b[39m\u001b[38;5;241m.\u001b[39m_trace:\n",
      "    \u001b[1;31m[... skipping similar frames: RecursiveDescentParser._expand at line 225 (974 times), RecursiveDescentParser._parse at line 126 (974 times)]\u001b[0m\n",
      "File \u001b[1;32mc:\\Users\\Ramakrishna\\anaconda3\\Lib\\site-packages\\nltk\\parse\\recursivedescent.py:130\u001b[0m, in \u001b[0;36mRecursiveDescentParser._parse\u001b[1;34m(self, remaining_text, tree, frontier)\u001b[0m\n\u001b[0;32m    126\u001b[0m     \u001b[38;5;28;01myield from\u001b[39;00m \u001b[38;5;28mself\u001b[39m\u001b[38;5;241m.\u001b[39m_expand(remaining_text, tree, frontier)\n\u001b[0;32m    128\u001b[0m \u001b[38;5;66;03m# If the next element on the frontier is a token, match it.\u001b[39;00m\n\u001b[0;32m    129\u001b[0m \u001b[38;5;28;01melse\u001b[39;00m:\n\u001b[1;32m--> 130\u001b[0m     \u001b[38;5;28;01myield from\u001b[39;00m \u001b[38;5;28mself\u001b[39m\u001b[38;5;241m.\u001b[39m_match(remaining_text, tree, frontier)\n",
      "File \u001b[1;32mc:\\Users\\Ramakrishna\\anaconda3\\Lib\\site-packages\\nltk\\parse\\recursivedescent.py:168\u001b[0m, in \u001b[0;36mRecursiveDescentParser._match\u001b[1;34m(self, rtext, tree, frontier)\u001b[0m\n\u001b[0;32m    166\u001b[0m     \u001b[38;5;28;01mif\u001b[39;00m \u001b[38;5;28mself\u001b[39m\u001b[38;5;241m.\u001b[39m_trace:\n\u001b[0;32m    167\u001b[0m         \u001b[38;5;28mself\u001b[39m\u001b[38;5;241m.\u001b[39m_trace_match(newtree, frontier[\u001b[38;5;241m1\u001b[39m:], rtext[\u001b[38;5;241m0\u001b[39m])\n\u001b[1;32m--> 168\u001b[0m     \u001b[38;5;28;01myield from\u001b[39;00m \u001b[38;5;28mself\u001b[39m\u001b[38;5;241m.\u001b[39m_parse(rtext[\u001b[38;5;241m1\u001b[39m:], newtree, frontier[\u001b[38;5;241m1\u001b[39m:])\n\u001b[0;32m    169\u001b[0m \u001b[38;5;28;01melse\u001b[39;00m:\n\u001b[0;32m    170\u001b[0m     \u001b[38;5;66;03m# If it's a non-matching terminal, fail.\u001b[39;00m\n\u001b[0;32m    171\u001b[0m     \u001b[38;5;28;01mif\u001b[39;00m \u001b[38;5;28mself\u001b[39m\u001b[38;5;241m.\u001b[39m_trace:\n",
      "    \u001b[1;31m[... skipping similar frames: RecursiveDescentParser._parse at line 126 (13 times), RecursiveDescentParser._expand at line 225 (12 times), RecursiveDescentParser._match at line 168 (7 times), RecursiveDescentParser._parse at line 130 (7 times)]\u001b[0m\n",
      "File \u001b[1;32mc:\\Users\\Ramakrishna\\anaconda3\\Lib\\site-packages\\nltk\\parse\\recursivedescent.py:225\u001b[0m, in \u001b[0;36mRecursiveDescentParser._expand\u001b[1;34m(self, remaining_text, tree, frontier, production)\u001b[0m\n\u001b[0;32m    223\u001b[0m \u001b[38;5;28;01mif\u001b[39;00m \u001b[38;5;28mself\u001b[39m\u001b[38;5;241m.\u001b[39m_trace:\n\u001b[0;32m    224\u001b[0m     \u001b[38;5;28mself\u001b[39m\u001b[38;5;241m.\u001b[39m_trace_expand(newtree, new_frontier, production)\n\u001b[1;32m--> 225\u001b[0m \u001b[38;5;28;01myield from\u001b[39;00m \u001b[38;5;28mself\u001b[39m\u001b[38;5;241m.\u001b[39m_parse(\n\u001b[0;32m    226\u001b[0m     remaining_text, newtree, new_frontier \u001b[38;5;241m+\u001b[39m frontier[\u001b[38;5;241m1\u001b[39m:]\n\u001b[0;32m    227\u001b[0m )\n",
      "File \u001b[1;32mc:\\Users\\Ramakrishna\\anaconda3\\Lib\\site-packages\\nltk\\parse\\recursivedescent.py:130\u001b[0m, in \u001b[0;36mRecursiveDescentParser._parse\u001b[1;34m(self, remaining_text, tree, frontier)\u001b[0m\n\u001b[0;32m    126\u001b[0m     \u001b[38;5;28;01myield from\u001b[39;00m \u001b[38;5;28mself\u001b[39m\u001b[38;5;241m.\u001b[39m_expand(remaining_text, tree, frontier)\n\u001b[0;32m    128\u001b[0m \u001b[38;5;66;03m# If the next element on the frontier is a token, match it.\u001b[39;00m\n\u001b[0;32m    129\u001b[0m \u001b[38;5;28;01melse\u001b[39;00m:\n\u001b[1;32m--> 130\u001b[0m     \u001b[38;5;28;01myield from\u001b[39;00m \u001b[38;5;28mself\u001b[39m\u001b[38;5;241m.\u001b[39m_match(remaining_text, tree, frontier)\n",
      "File \u001b[1;32mc:\\Users\\Ramakrishna\\anaconda3\\Lib\\site-packages\\nltk\\parse\\recursivedescent.py:168\u001b[0m, in \u001b[0;36mRecursiveDescentParser._match\u001b[1;34m(self, rtext, tree, frontier)\u001b[0m\n\u001b[0;32m    166\u001b[0m     \u001b[38;5;28;01mif\u001b[39;00m \u001b[38;5;28mself\u001b[39m\u001b[38;5;241m.\u001b[39m_trace:\n\u001b[0;32m    167\u001b[0m         \u001b[38;5;28mself\u001b[39m\u001b[38;5;241m.\u001b[39m_trace_match(newtree, frontier[\u001b[38;5;241m1\u001b[39m:], rtext[\u001b[38;5;241m0\u001b[39m])\n\u001b[1;32m--> 168\u001b[0m     \u001b[38;5;28;01myield from\u001b[39;00m \u001b[38;5;28mself\u001b[39m\u001b[38;5;241m.\u001b[39m_parse(rtext[\u001b[38;5;241m1\u001b[39m:], newtree, frontier[\u001b[38;5;241m1\u001b[39m:])\n\u001b[0;32m    169\u001b[0m \u001b[38;5;28;01melse\u001b[39;00m:\n\u001b[0;32m    170\u001b[0m     \u001b[38;5;66;03m# If it's a non-matching terminal, fail.\u001b[39;00m\n\u001b[0;32m    171\u001b[0m     \u001b[38;5;28;01mif\u001b[39;00m \u001b[38;5;28mself\u001b[39m\u001b[38;5;241m.\u001b[39m_trace:\n",
      "File \u001b[1;32mc:\\Users\\Ramakrishna\\anaconda3\\Lib\\site-packages\\nltk\\parse\\recursivedescent.py:126\u001b[0m, in \u001b[0;36mRecursiveDescentParser._parse\u001b[1;34m(self, remaining_text, tree, frontier)\u001b[0m\n\u001b[0;32m    124\u001b[0m \u001b[38;5;66;03m# If the next element on the frontier is a tree, expand it.\u001b[39;00m\n\u001b[0;32m    125\u001b[0m \u001b[38;5;28;01melif\u001b[39;00m \u001b[38;5;28misinstance\u001b[39m(tree[frontier[\u001b[38;5;241m0\u001b[39m]], Tree):\n\u001b[1;32m--> 126\u001b[0m     \u001b[38;5;28;01myield from\u001b[39;00m \u001b[38;5;28mself\u001b[39m\u001b[38;5;241m.\u001b[39m_expand(remaining_text, tree, frontier)\n\u001b[0;32m    128\u001b[0m \u001b[38;5;66;03m# If the next element on the frontier is a token, match it.\u001b[39;00m\n\u001b[0;32m    129\u001b[0m \u001b[38;5;28;01melse\u001b[39;00m:\n\u001b[0;32m    130\u001b[0m     \u001b[38;5;28;01myield from\u001b[39;00m \u001b[38;5;28mself\u001b[39m\u001b[38;5;241m.\u001b[39m_match(remaining_text, tree, frontier)\n",
      "File \u001b[1;32mc:\\Users\\Ramakrishna\\anaconda3\\Lib\\site-packages\\nltk\\parse\\recursivedescent.py:218\u001b[0m, in \u001b[0;36mRecursiveDescentParser._expand\u001b[1;34m(self, remaining_text, tree, frontier, production)\u001b[0m\n\u001b[0;32m    216\u001b[0m     newtree \u001b[38;5;241m=\u001b[39m subtree\n\u001b[0;32m    217\u001b[0m \u001b[38;5;28;01melse\u001b[39;00m:\n\u001b[1;32m--> 218\u001b[0m     newtree \u001b[38;5;241m=\u001b[39m tree\u001b[38;5;241m.\u001b[39mcopy(deep\u001b[38;5;241m=\u001b[39m\u001b[38;5;28;01mTrue\u001b[39;00m)\n\u001b[0;32m    219\u001b[0m     newtree[frontier[\u001b[38;5;241m0\u001b[39m]] \u001b[38;5;241m=\u001b[39m subtree\n\u001b[0;32m    220\u001b[0m new_frontier \u001b[38;5;241m=\u001b[39m [\n\u001b[0;32m    221\u001b[0m     frontier[\u001b[38;5;241m0\u001b[39m] \u001b[38;5;241m+\u001b[39m (i,) \u001b[38;5;28;01mfor\u001b[39;00m i \u001b[38;5;129;01min\u001b[39;00m \u001b[38;5;28mrange\u001b[39m(\u001b[38;5;28mlen\u001b[39m(production\u001b[38;5;241m.\u001b[39mrhs()))\n\u001b[0;32m    222\u001b[0m ]\n",
      "File \u001b[1;32mc:\\Users\\Ramakrishna\\anaconda3\\Lib\\site-packages\\nltk\\tree\\tree.py:558\u001b[0m, in \u001b[0;36mTree.copy\u001b[1;34m(self, deep)\u001b[0m\n\u001b[0;32m    556\u001b[0m     \u001b[38;5;28;01mreturn\u001b[39;00m \u001b[38;5;28mtype\u001b[39m(\u001b[38;5;28mself\u001b[39m)(\u001b[38;5;28mself\u001b[39m\u001b[38;5;241m.\u001b[39m_label, \u001b[38;5;28mself\u001b[39m)\n\u001b[0;32m    557\u001b[0m \u001b[38;5;28;01melse\u001b[39;00m:\n\u001b[1;32m--> 558\u001b[0m     \u001b[38;5;28;01mreturn\u001b[39;00m \u001b[38;5;28mtype\u001b[39m(\u001b[38;5;28mself\u001b[39m)\u001b[38;5;241m.\u001b[39mconvert(\u001b[38;5;28mself\u001b[39m)\n",
      "File \u001b[1;32mc:\\Users\\Ramakrishna\\anaconda3\\Lib\\site-packages\\nltk\\tree\\tree.py:543\u001b[0m, in \u001b[0;36mTree.convert\u001b[1;34m(cls, tree)\u001b[0m\n\u001b[0;32m    534\u001b[0m \u001b[38;5;250m\u001b[39m\u001b[38;5;124;03m\"\"\"\u001b[39;00m\n\u001b[0;32m    535\u001b[0m \u001b[38;5;124;03mConvert a tree between different subtypes of Tree.  ``cls`` determines\u001b[39;00m\n\u001b[0;32m    536\u001b[0m \u001b[38;5;124;03mwhich class will be used to encode the new tree.\u001b[39;00m\n\u001b[1;32m   (...)\u001b[0m\n\u001b[0;32m    540\u001b[0m \u001b[38;5;124;03m:return: The new Tree.\u001b[39;00m\n\u001b[0;32m    541\u001b[0m \u001b[38;5;124;03m\"\"\"\u001b[39;00m\n\u001b[0;32m    542\u001b[0m \u001b[38;5;28;01mif\u001b[39;00m \u001b[38;5;28misinstance\u001b[39m(tree, Tree):\n\u001b[1;32m--> 543\u001b[0m     children \u001b[38;5;241m=\u001b[39m [\u001b[38;5;28mcls\u001b[39m\u001b[38;5;241m.\u001b[39mconvert(child) \u001b[38;5;28;01mfor\u001b[39;00m child \u001b[38;5;129;01min\u001b[39;00m tree]\n\u001b[0;32m    544\u001b[0m     \u001b[38;5;28;01mreturn\u001b[39;00m \u001b[38;5;28mcls\u001b[39m(tree\u001b[38;5;241m.\u001b[39m_label, children)\n\u001b[0;32m    545\u001b[0m \u001b[38;5;28;01melse\u001b[39;00m:\n",
      "File \u001b[1;32mc:\\Users\\Ramakrishna\\anaconda3\\Lib\\site-packages\\nltk\\tree\\tree.py:543\u001b[0m, in \u001b[0;36mTree.convert\u001b[1;34m(cls, tree)\u001b[0m\n\u001b[0;32m    534\u001b[0m \u001b[38;5;250m\u001b[39m\u001b[38;5;124;03m\"\"\"\u001b[39;00m\n\u001b[0;32m    535\u001b[0m \u001b[38;5;124;03mConvert a tree between different subtypes of Tree.  ``cls`` determines\u001b[39;00m\n\u001b[0;32m    536\u001b[0m \u001b[38;5;124;03mwhich class will be used to encode the new tree.\u001b[39;00m\n\u001b[1;32m   (...)\u001b[0m\n\u001b[0;32m    540\u001b[0m \u001b[38;5;124;03m:return: The new Tree.\u001b[39;00m\n\u001b[0;32m    541\u001b[0m \u001b[38;5;124;03m\"\"\"\u001b[39;00m\n\u001b[0;32m    542\u001b[0m \u001b[38;5;28;01mif\u001b[39;00m \u001b[38;5;28misinstance\u001b[39m(tree, Tree):\n\u001b[1;32m--> 543\u001b[0m     children \u001b[38;5;241m=\u001b[39m [\u001b[38;5;28mcls\u001b[39m\u001b[38;5;241m.\u001b[39mconvert(child) \u001b[38;5;28;01mfor\u001b[39;00m child \u001b[38;5;129;01min\u001b[39;00m tree]\n\u001b[0;32m    544\u001b[0m     \u001b[38;5;28;01mreturn\u001b[39;00m \u001b[38;5;28mcls\u001b[39m(tree\u001b[38;5;241m.\u001b[39m_label, children)\n\u001b[0;32m    545\u001b[0m \u001b[38;5;28;01melse\u001b[39;00m:\n",
      "    \u001b[1;31m[... skipping similar frames: Tree.convert at line 543 (973 times)]\u001b[0m\n",
      "File \u001b[1;32mc:\\Users\\Ramakrishna\\anaconda3\\Lib\\site-packages\\nltk\\tree\\tree.py:543\u001b[0m, in \u001b[0;36mTree.convert\u001b[1;34m(cls, tree)\u001b[0m\n\u001b[0;32m    534\u001b[0m \u001b[38;5;250m\u001b[39m\u001b[38;5;124;03m\"\"\"\u001b[39;00m\n\u001b[0;32m    535\u001b[0m \u001b[38;5;124;03mConvert a tree between different subtypes of Tree.  ``cls`` determines\u001b[39;00m\n\u001b[0;32m    536\u001b[0m \u001b[38;5;124;03mwhich class will be used to encode the new tree.\u001b[39;00m\n\u001b[1;32m   (...)\u001b[0m\n\u001b[0;32m    540\u001b[0m \u001b[38;5;124;03m:return: The new Tree.\u001b[39;00m\n\u001b[0;32m    541\u001b[0m \u001b[38;5;124;03m\"\"\"\u001b[39;00m\n\u001b[0;32m    542\u001b[0m \u001b[38;5;28;01mif\u001b[39;00m \u001b[38;5;28misinstance\u001b[39m(tree, Tree):\n\u001b[1;32m--> 543\u001b[0m     children \u001b[38;5;241m=\u001b[39m [\u001b[38;5;28mcls\u001b[39m\u001b[38;5;241m.\u001b[39mconvert(child) \u001b[38;5;28;01mfor\u001b[39;00m child \u001b[38;5;129;01min\u001b[39;00m tree]\n\u001b[0;32m    544\u001b[0m     \u001b[38;5;28;01mreturn\u001b[39;00m \u001b[38;5;28mcls\u001b[39m(tree\u001b[38;5;241m.\u001b[39m_label, children)\n\u001b[0;32m    545\u001b[0m \u001b[38;5;28;01melse\u001b[39;00m:\n",
      "\u001b[1;31mRecursionError\u001b[0m: maximum recursion depth exceeded"
     ]
    }
   ],
   "source": [
    "import nltk\n",
    "from nltk.tokenize import word_tokenize\n",
    "\n",
    "# Download tokenizer data if not already installed\n",
    "#nltk.download('punkt')\n",
    "\n",
    "# Define the sentence\n",
    "sent = \"Bob saw a man with a telescope in the park.\"\n",
    "\n",
    "# Tokenize the sentence\n",
    "tok_word = word_tokenize(sent)\n",
    "print(\"Tokenized words:\", tok_word)\n",
    "\n",
    "# Define the grammar\n",
    "grammar1 = nltk.CFG.fromstring(\"\"\"\n",
    "    S -> NP VP\n",
    "    VP -> V NP | VP PP\n",
    "    PP -> P NP\n",
    "    NP -> Det N | N | 'Bob'\n",
    "    V -> 'saw'\n",
    "    Det -> 'the' | 'a'\n",
    "    N -> 'man' | 'telescope' | 'park'\n",
    "    P -> 'in' | 'with'\n",
    "    PUNC -> '.'\n",
    "\"\"\")\n",
    "\n",
    "# Remove punctuation from the tokenized sentence\n",
    "tok_word = [word for word in tok_word if word != '.']\n",
    "\n",
    "# Create parser\n",
    "rd_parse = nltk.RecursiveDescentParser(grammar1)\n",
    "\n",
    "# Parse and print trees\n",
    "for tree in rd_parse.parse(tok_word):\n",
    "    print(tree)\n",
    "print(grammer1)\n",
    "#To generate sentence using the grammer \n",
    "from nltk.parse.generate import generate\n",
    "from nltk import CFG\n",
    "for sent in generate(grammer1,n=10):\n",
    "    print(' '.join(sent))\n"
   ]
  },
  {
   "cell_type": "code",
   "execution_count": null,
   "id": "e61449d0",
   "metadata": {},
   "outputs": [
    {
     "name": "stdout",
     "output_type": "stream",
     "text": [
      "Grammar with 16 productions (start state = S)\n",
      "    S -> NP VP\n",
      "    VP -> V NP\n",
      "    VP -> VP PP\n",
      "    PP -> P NP\n",
      "    NP -> Det N\n",
      "    NP -> N\n",
      "    NP -> 'Bob'\n",
      "    V -> 'saw'\n",
      "    Det -> 'the'\n",
      "    Det -> 'a'\n",
      "    N -> 'man'\n",
      "    N -> 'telescope'\n",
      "    N -> 'park'\n",
      "    P -> 'in'\n",
      "    P -> 'with'\n",
      "    PUNC -> '.'\n"
     ]
    },
    {
     "data": {
      "text/plain": [
       "<nltk.parse.recursivedescent.RecursiveDescentParser at 0x17269ecbe90>"
      ]
     },
     "execution_count": 4,
     "metadata": {},
     "output_type": "execute_result"
    }
   ],
   "source": [
    "#Example 1\n",
    "\n",
    "import nltk\n",
    "\n",
    "grammar2 = nltk.CFG.fromstring(\"\"\"\n",
    "    S -> NP VP\n",
    "    VP -> V NP | NP PP\n",
    "    PP -> P NP\n",
    "    NP -> Det N | N\n",
    "    V -> 'eats' | 'drinks'\n",
    "    Det -> 'the' | 'a'\n",
    "    N -> 'apple' | 'banana'\n",
    "    P -> 'with'\n",
    "\"\"\")\n",
    "\n",
    "print(grammar1)\n",
    "rd_parse = nltk.RecursiveDescentParser(grammar1)\n",
    "rd_parse\n",
    "\n"
   ]
  },
  {
   "cell_type": "code",
   "execution_count": null,
   "id": "12b95d22",
   "metadata": {},
   "outputs": [
    {
     "ename": "NameError",
     "evalue": "name 'tok_NNP' is not defined",
     "output_type": "error",
     "traceback": [
      "\u001b[1;31m---------------------------------------------------------------------------\u001b[0m",
      "\u001b[1;31mNameError\u001b[0m                                 Traceback (most recent call last)",
      "Cell \u001b[1;32mIn[12], line 21\u001b[0m\n\u001b[0;32m     13\u001b[0m         \u001b[38;5;28;01melse\u001b[39;00m:\n\u001b[0;32m     14\u001b[0m             \u001b[38;5;28;01mpass\u001b[39;00m           \n\u001b[0;32m     16\u001b[0m grammar\u001b[38;5;241m=\u001b[39mnltk\u001b[38;5;241m.\u001b[39mCFG\u001b[38;5;241m.\u001b[39mfromstring(\u001b[38;5;124m\"\"\"\u001b[39m\n\u001b[0;32m     17\u001b[0m \u001b[38;5;124m                           S -> NP VP\u001b[39m\n\u001b[0;32m     18\u001b[0m \u001b[38;5;124m                           VP -> V N \u001b[39m\n\u001b[0;32m     19\u001b[0m \u001b[38;5;124m                           NP -> \u001b[39m\u001b[38;5;132;01m{}\u001b[39;00m\n\u001b[0;32m     20\u001b[0m \u001b[38;5;124m                           N -> \u001b[39m\u001b[38;5;132;01m{}\u001b[39;00m\n\u001b[1;32m---> 21\u001b[0m \u001b[38;5;124m                           v -> \u001b[39m\u001b[38;5;132;01m{}\u001b[39;00m\u001b[38;5;124m\"\"\"\u001b[39m\u001b[38;5;241m.\u001b[39mformat(tok_NNP,tok_NN,tok_VP))\n\u001b[0;32m     22\u001b[0m \u001b[38;5;28;01mfor\u001b[39;00m sent \u001b[38;5;129;01min\u001b[39;00m generate(grammar):\n\u001b[0;32m     23\u001b[0m     \u001b[38;5;28mprint\u001b[39m(\u001b[38;5;124m'\u001b[39m\u001b[38;5;124m \u001b[39m\u001b[38;5;124m'\u001b[39m\u001b[38;5;241m.\u001b[39mjoin(sent))\n",
      "\u001b[1;31mNameError\u001b[0m: name 'tok_NNP' is not defined"
     ]
    }
   ],
   "source": [
    "#Automation Text Parapharsing \n",
    "import nltk\n",
    "from nltk.parse.generate import generate\n",
    "def parse_sent(sent):\n",
    "    pos_tokens=nltk.pos_tag(nltk.word_tokenize(sent))\n",
    "    for token in pos_tokens:\n",
    "        if token[1] ==\"NNP\":\n",
    "            tok_NNP=\"\\'\"+token[0]+\"\\'\"\n",
    "        if token[1] == \"VBD\" or token[1] ==\"VBN\" or token[1] == \"VBG\":\n",
    "            tok_VP=\"\\'\"+token[0]+\"\\'\" \n",
    "        if token[1] ==\"NN\":\n",
    "            tok_NN=\"\\'\"+token[0]+\"\\'\"\n",
    "        else:\n",
    "            pass           \n",
    "        \n",
    "grammar=nltk.CFG.fromstring(\"\"\"\n",
    "                           S -> NP VP\n",
    "                           VP -> V N \n",
    "                           NP -> {}\n",
    "                           N -> {}\n",
    "                           v -> {}\"\"\".format(tok_NNP,tok_NN,tok_VP))\n",
    "for sent in generate(grammar):\n",
    "    print(' '.join(sent))\n",
    "\n",
    "\n",
    "parse_sent(\"Jose loves driving his long which car\")"
   ]
  },
  {
   "cell_type": "code",
   "execution_count": null,
   "id": "cf57b5fd",
   "metadata": {},
   "outputs": [],
   "source": []
  }
 ],
 "metadata": {
  "kernelspec": {
   "display_name": "base",
   "language": "python",
   "name": "python3"
  },
  "language_info": {
   "codemirror_mode": {
    "name": "ipython",
    "version": 3
   },
   "file_extension": ".py",
   "mimetype": "text/x-python",
   "name": "python",
   "nbconvert_exporter": "python",
   "pygments_lexer": "ipython3",
   "version": "3.12.3"
  }
 },
 "nbformat": 4,
 "nbformat_minor": 5
}
