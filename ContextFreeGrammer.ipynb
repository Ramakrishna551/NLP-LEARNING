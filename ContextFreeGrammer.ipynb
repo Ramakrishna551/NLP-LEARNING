{
 "cells": [
  {
   "cell_type": "code",
   "execution_count": 1,
   "id": "6d94bbf2",
   "metadata": {},
   "outputs": [],
   "source": [
    "# Context Free Grammer (CFG):\n",
    "# A CFG is used to describe the syntax of a natural language by defining things recursively .\n",
    "# A language can be defined as all the possible derivations with in the rules described by a grammer "
   ]
  },
  {
   "cell_type": "code",
   "execution_count": 2,
   "id": "eece718c",
   "metadata": {},
   "outputs": [
    {
     "name": "stdout",
     "output_type": "stream",
     "text": [
      "Grammar with 25 productions (start state = S)\n",
      "    S -> NP VP\n",
      "    VP -> V NP\n",
      "    VP -> NP PP\n",
      "    PP -> P NP\n",
      "    V -> 'saw'\n",
      "    V -> 'ate'\n",
      "    V -> 'walked'\n",
      "    NP -> 'John'\n",
      "    NP -> 'Mary'\n",
      "    NP -> 'Bob'\n",
      "    NP -> Det N\n",
      "    NP -> Det N PP\n",
      "    Det -> 'a'\n",
      "    Det -> 'an'\n",
      "    Det -> 'the'\n",
      "    Det -> 'my'\n",
      "    N -> 'man'\n",
      "    N -> 'Dog'\n",
      "    N -> 'Cat'\n",
      "    N -> 'telescope'\n",
      "    N -> 'park'\n",
      "    P -> 'in'\n",
      "    P -> 'on'\n",
      "    P -> 'by'\n",
      "    P -> with\n",
      "['Bob', 'saw', 'a', 'man', 'with', 'a', 'telescope', 'in', 'the', 'park']\n"
     ]
    }
   ],
   "source": [
    "#TO define a CFG using link:\n",
    "import nltk\n",
    "grammar1=nltk.CFG.fromstring(\"\"\"\n",
    "                            S -> NP VP\n",
    "                            VP -> V NP|NP PP\n",
    "                            PP -> P NP\n",
    "                            V  -> \"saw\" | \"ate\" | \"walked\"\n",
    "                            NP -> \"John\" | \"Mary\" | \"Bob\" | Det N | Det N PP\n",
    "                            Det -> \"a\" | \"an\" | \"the\" | \"my\"\n",
    "                            N -> \"man\" | \"Dog\" | \"Cat\" | \"telescope\" | \"park\"\n",
    "                            P -> \"in\" | \"on\" | \"by\" | with\n",
    "\n",
    "                            \"\"\")\n",
    "print(grammar1)\n",
    "sent = \"Bob saw a man with a telescope in the park \"\n",
    "tok_word=nltk.word_tokenize(sent)\n",
    "print(tok_word)\n",
    "\n"
   ]
  },
  {
   "cell_type": "code",
   "execution_count": null,
   "id": "c5f25e23",
   "metadata": {},
   "outputs": [
    {
     "name": "stdout",
     "output_type": "stream",
     "text": [
      "Tokenized words: ['Bob', 'saw', 'a', 'man', 'with', 'a', 'telescope', 'in', 'the', 'park', '.']\n",
      "(S\n",
      "  (NP Bob)\n",
      "  (VP\n",
      "    (VP\n",
      "      (VP (V saw) (NP (Det a) (N man)))\n",
      "      (PP (P with) (NP (Det a) (N telescope))))\n",
      "    (PP (P in) (NP (Det the) (N park)))))\n"
     ]
    }
   ],
   "source": [
    "import nltk\n",
    "from nltk.tokenize import word_tokenize\n",
    "\n",
    "# Download tokenizer data if not already installed\n",
    "#nltk.download('punkt')\n",
    "\n",
    "# Define the sentence\n",
    "sent = \"Bob saw a man with a telescope in the park.\"\n",
    "\n",
    "# Tokenize the sentence\n",
    "tok_word = word_tokenize(sent)\n",
    "print(\"Tokenized words:\", tok_word)\n",
    "\n",
    "# Define the grammar\n",
    "grammar1 = nltk.CFG.fromstring(\"\"\"\n",
    "    S -> NP VP\n",
    "    VP -> V NP | VP PP\n",
    "    PP -> P NP\n",
    "    NP -> Det N | N | 'Bob'\n",
    "    V -> 'saw'\n",
    "    Det -> 'the' | 'a'\n",
    "    N -> 'man' | 'telescope' | 'park'\n",
    "    P -> 'in' | 'with'\n",
    "    PUNC -> '.'\n",
    "\"\"\")\n",
    "\n",
    "# Remove punctuation from the tokenized sentence\n",
    "tok_word = [word for word in tok_word if word != '.']\n",
    "\n",
    "# Create parser\n",
    "rd_parse = nltk.RecursiveDescentParser(grammar1)\n",
    "\n",
    "# Parse and print trees\n",
    "for tree in rd_parse.parse(tok_word):\n",
    "    print(tree)\n",
    "print(grammer1)\n",
    "#To generate sentence using the grammer \n",
    "from nltk.parse.generate import generate\n",
    "from nltk import CFG\n",
    "for sent in generate(grammer1,n=10):\n",
    "    print(' '.join(sent))\n"
   ]
  },
  {
   "cell_type": "code",
   "execution_count": null,
   "id": "e61449d0",
   "metadata": {},
   "outputs": [
    {
     "name": "stdout",
     "output_type": "stream",
     "text": [
      "Grammar with 16 productions (start state = S)\n",
      "    S -> NP VP\n",
      "    VP -> V NP\n",
      "    VP -> VP PP\n",
      "    PP -> P NP\n",
      "    NP -> Det N\n",
      "    NP -> N\n",
      "    NP -> 'Bob'\n",
      "    V -> 'saw'\n",
      "    Det -> 'the'\n",
      "    Det -> 'a'\n",
      "    N -> 'man'\n",
      "    N -> 'telescope'\n",
      "    N -> 'park'\n",
      "    P -> 'in'\n",
      "    P -> 'with'\n",
      "    PUNC -> '.'\n"
     ]
    },
    {
     "data": {
      "text/plain": [
       "<nltk.parse.recursivedescent.RecursiveDescentParser at 0x17269ecbe90>"
      ]
     },
     "execution_count": 4,
     "metadata": {},
     "output_type": "execute_result"
    }
   ],
   "source": [
    "#Example 1\n",
    "\n",
    "import nltk\n",
    "\n",
    "grammar2 = nltk.CFG.fromstring(\"\"\"\n",
    "    S -> NP VP\n",
    "    VP -> V NP | NP PP\n",
    "    PP -> P NP\n",
    "    NP -> Det N | N\n",
    "    V -> 'eats' | 'drinks'\n",
    "    Det -> 'the' | 'a'\n",
    "    N -> 'apple' | 'banana'\n",
    "    P -> 'with'\n",
    "\"\"\")\n",
    "\n",
    "print(grammar1)\n",
    "rd_parse = nltk.RecursiveDescentParser(grammar1)\n",
    "rd_parse\n",
    "\n"
   ]
  },
  {
   "cell_type": "code",
   "execution_count": null,
   "id": "12b95d22",
   "metadata": {},
   "outputs": [
    {
     "ename": "NameError",
     "evalue": "name 'tok_NNP' is not defined",
     "output_type": "error",
     "traceback": [
      "\u001b[1;31m---------------------------------------------------------------------------\u001b[0m",
      "\u001b[1;31mNameError\u001b[0m                                 Traceback (most recent call last)",
      "Cell \u001b[1;32mIn[12], line 21\u001b[0m\n\u001b[0;32m     13\u001b[0m         \u001b[38;5;28;01melse\u001b[39;00m:\n\u001b[0;32m     14\u001b[0m             \u001b[38;5;28;01mpass\u001b[39;00m           \n\u001b[0;32m     16\u001b[0m grammar\u001b[38;5;241m=\u001b[39mnltk\u001b[38;5;241m.\u001b[39mCFG\u001b[38;5;241m.\u001b[39mfromstring(\u001b[38;5;124m\"\"\"\u001b[39m\n\u001b[0;32m     17\u001b[0m \u001b[38;5;124m                           S -> NP VP\u001b[39m\n\u001b[0;32m     18\u001b[0m \u001b[38;5;124m                           VP -> V N \u001b[39m\n\u001b[0;32m     19\u001b[0m \u001b[38;5;124m                           NP -> \u001b[39m\u001b[38;5;132;01m{}\u001b[39;00m\n\u001b[0;32m     20\u001b[0m \u001b[38;5;124m                           N -> \u001b[39m\u001b[38;5;132;01m{}\u001b[39;00m\n\u001b[1;32m---> 21\u001b[0m \u001b[38;5;124m                           v -> \u001b[39m\u001b[38;5;132;01m{}\u001b[39;00m\u001b[38;5;124m\"\"\"\u001b[39m\u001b[38;5;241m.\u001b[39mformat(tok_NNP,tok_NN,tok_VP))\n\u001b[0;32m     22\u001b[0m \u001b[38;5;28;01mfor\u001b[39;00m sent \u001b[38;5;129;01min\u001b[39;00m generate(grammar):\n\u001b[0;32m     23\u001b[0m     \u001b[38;5;28mprint\u001b[39m(\u001b[38;5;124m'\u001b[39m\u001b[38;5;124m \u001b[39m\u001b[38;5;124m'\u001b[39m\u001b[38;5;241m.\u001b[39mjoin(sent))\n",
      "\u001b[1;31mNameError\u001b[0m: name 'tok_NNP' is not defined"
     ]
    }
   ],
   "source": [
    "#Automation Text Parapharsing \n",
    "import nltk\n",
    "from nltk.parse.generate import generate\n",
    "def parse_sent(sent):\n",
    "    pos_tokens=nltk.pos_tag(nltk.word_tokenize(sent))\n",
    "    for token in pos_tokens:\n",
    "        if token[1] ==\"NNP\":\n",
    "            tok_NNP=\"\\'\"+token[0]+\"\\'\"\n",
    "        if token[1] == \"VBD\" or token[1] ==\"VBN\" or token[1] == \"VBG\":\n",
    "            tok_VP=\"\\'\"+token[0]+\"\\'\" \n",
    "        if token[1] ==\"NN\":\n",
    "            tok_NN=\"\\'\"+token[0]+\"\\'\"\n",
    "        else:\n",
    "            pass           \n",
    "        \n",
    "grammar=nltk.CFG.fromstring(\"\"\"\n",
    "                           S -> NP VP\n",
    "                           VP -> V N \n",
    "                           NP -> {}\n",
    "                           N -> {}\n",
    "                           v -> {}\"\"\".format(tok_NNP,tok_NN,tok_VP))\n",
    "for sent in generate(grammar):\n",
    "    print(' '.join(sent))\n",
    "\n",
    "\n",
    "parse_sent(\"Jose loves driving his long which car\")"
   ]
  },
  {
   "cell_type": "code",
   "execution_count": null,
   "id": "cf57b5fd",
   "metadata": {},
   "outputs": [],
   "source": []
  }
 ],
 "metadata": {
  "kernelspec": {
   "display_name": "base",
   "language": "python",
   "name": "python3"
  },
  "language_info": {
   "codemirror_mode": {
    "name": "ipython",
    "version": 3
   },
   "file_extension": ".py",
   "mimetype": "text/x-python",
   "name": "python",
   "nbconvert_exporter": "python",
   "pygments_lexer": "ipython3",
   "version": "3.12.3"
  }
 },
 "nbformat": 4,
 "nbformat_minor": 5
}
